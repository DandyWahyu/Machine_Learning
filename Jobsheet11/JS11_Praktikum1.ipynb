{
  "nbformat": 4,
  "nbformat_minor": 0,
  "metadata": {
    "colab": {
      "provenance": [],
      "gpuType": "T4",
      "authorship_tag": "ABX9TyO1jfIQm3Vby44Ofwg6ru11",
      "include_colab_link": true
    },
    "kernelspec": {
      "name": "python3",
      "display_name": "Python 3"
    },
    "language_info": {
      "name": "python"
    },
    "accelerator": "GPU"
  },
  "cells": [
    {
      "cell_type": "markdown",
      "metadata": {
        "id": "view-in-github",
        "colab_type": "text"
      },
      "source": [
        "<a href=\"https://colab.research.google.com/github/DandyWahyu/Machine_Learning/blob/main/Jobsheet11/JS11_Praktikum1.ipynb\" target=\"_parent\"><img src=\"https://colab.research.google.com/assets/colab-badge.svg\" alt=\"Open In Colab\"/></a>"
      ]
    },
    {
      "cell_type": "markdown",
      "source": [
        "### Jobsheet 11 - Convolutional Neural Network (CNN)\n",
        "#### Nama: Dandy Wahyu Syahputra\n",
        "#### NIM: 2141720002\n",
        "#### Kelas: TI - 3A\n",
        "\n",
        "# Praktikum 1"
      ],
      "metadata": {
        "id": "aPYubU2smYL1"
      }
    },
    {
      "cell_type": "markdown",
      "source": [
        "### 1. Import Library"
      ],
      "metadata": {
        "id": "xvLdS6baB3BC"
      }
    },
    {
      "cell_type": "code",
      "execution_count": 2,
      "metadata": {
        "id": "-yaeyFUemDfB"
      },
      "outputs": [],
      "source": [
        "import tensorflow as tf\n",
        "from keras.preprocessing.image import ImageDataGenerator"
      ]
    },
    {
      "cell_type": "code",
      "source": [
        "from google.colab import drive\n",
        "drive.mount('/content/drive')"
      ],
      "metadata": {
        "colab": {
          "base_uri": "https://localhost:8080/"
        },
        "id": "SQuqQ880C_wz",
        "outputId": "919c8be4-0066-4ec2-fdec-e2c02003c33f"
      },
      "execution_count": 1,
      "outputs": [
        {
          "output_type": "stream",
          "name": "stdout",
          "text": [
            "Mounted at /content/drive\n"
          ]
        }
      ]
    },
    {
      "cell_type": "markdown",
      "source": [
        "### 2. Pra Pengolahan Data"
      ],
      "metadata": {
        "id": "Ws7kuicUB3V5"
      }
    },
    {
      "cell_type": "code",
      "source": [
        "train_datagen = ImageDataGenerator(rescale = 1./255,\n",
        "                                   shear_range = 0.2,\n",
        "                                   zoom_range = 0.2,\n",
        "                                   horizontal_flip = True)\n",
        "training_set = train_datagen.flow_from_directory('/content/drive/MyDrive/Colab Notebooks/dataset/dataset/training_set',\n",
        "                                                 target_size = (64, 64),\n",
        "                                                 batch_size = 32,\n",
        "                                                 class_mode = 'binary')"
      ],
      "metadata": {
        "id": "1rdi4j-8ngpU",
        "colab": {
          "base_uri": "https://localhost:8080/"
        },
        "outputId": "e458e156-e42c-4abe-cd7d-5bf21e087004"
      },
      "execution_count": 3,
      "outputs": [
        {
          "output_type": "stream",
          "name": "stdout",
          "text": [
            "Found 8000 images belonging to 2 classes.\n"
          ]
        }
      ]
    },
    {
      "cell_type": "code",
      "source": [
        "test_datagen = ImageDataGenerator(rescale = 1./255)\n",
        "test_set = test_datagen.flow_from_directory('/content/drive/MyDrive/Colab Notebooks/dataset/dataset/test_set',\n",
        "                                            target_size = (64, 64),\n",
        "                                            batch_size = 32,\n",
        "                                            class_mode = 'binary')"
      ],
      "metadata": {
        "colab": {
          "base_uri": "https://localhost:8080/"
        },
        "id": "pSf8zDggBxbT",
        "outputId": "2d88655f-d2c3-415b-915a-f789ff78c80c"
      },
      "execution_count": 4,
      "outputs": [
        {
          "output_type": "stream",
          "name": "stdout",
          "text": [
            "Found 2000 images belonging to 2 classes.\n"
          ]
        }
      ]
    },
    {
      "cell_type": "markdown",
      "source": [
        "### 3. Pembuatan Model CNN"
      ],
      "metadata": {
        "id": "eoLTqPBYB2bi"
      }
    },
    {
      "cell_type": "code",
      "source": [
        "# Inisiasi Model CNN\n",
        "cnn = tf.keras.models.Sequential()"
      ],
      "metadata": {
        "id": "DMDcVO0FB1Ez"
      },
      "execution_count": 5,
      "outputs": []
    },
    {
      "cell_type": "code",
      "source": [
        "# Pembuatan Layer Konvolusi 1\n",
        "cnn.add(tf.keras.layers.Conv2D(filters=32, kernel_size=3, activation='relu', input_shape=[64, 64, 3]))"
      ],
      "metadata": {
        "id": "e-jXr0q5CMTj"
      },
      "execution_count": 6,
      "outputs": []
    },
    {
      "cell_type": "code",
      "source": [
        "# Pembuatan Layer Pooling 1\n",
        "cnn.add(tf.keras.layers.MaxPool2D(pool_size=2, strides=2))"
      ],
      "metadata": {
        "id": "B2-hBM_LCSz7"
      },
      "execution_count": 7,
      "outputs": []
    },
    {
      "cell_type": "code",
      "source": [
        "# Pembuatan Layer Konvolusi 2 dan Pooling 2\n",
        "cnn.add(tf.keras.layers.Conv2D(filters=32, kernel_size=3, activation='relu'))\n",
        "cnn.add(tf.keras.layers.MaxPool2D(pool_size=2, strides=2))"
      ],
      "metadata": {
        "id": "9XyrZUv3CZzL"
      },
      "execution_count": 8,
      "outputs": []
    },
    {
      "cell_type": "code",
      "source": [
        "# Flattening\n",
        "cnn.add(tf.keras.layers.Flatten())"
      ],
      "metadata": {
        "id": "kVgDIqtwCd46"
      },
      "execution_count": 9,
      "outputs": []
    },
    {
      "cell_type": "code",
      "source": [
        "# Fully Connected Layer 1 (Input)\n",
        "cnn.add(tf.keras.layers.Dense(units=128, activation='relu'))"
      ],
      "metadata": {
        "id": "pi3YlTQtChxR"
      },
      "execution_count": 10,
      "outputs": []
    },
    {
      "cell_type": "code",
      "source": [
        "# Fully Connected Layer 2 (Output)\n",
        "cnn.add(tf.keras.layers.Dense(units=1, activation='sigmoid'))"
      ],
      "metadata": {
        "id": "cXakdVV7Cl-y"
      },
      "execution_count": 11,
      "outputs": []
    },
    {
      "cell_type": "code",
      "source": [
        "# Compile Model CNN\n",
        "cnn.compile(optimizer = 'adam', loss = 'binary_crossentropy', metrics = ['accuracy'])"
      ],
      "metadata": {
        "id": "TIuI7XeUCpjD"
      },
      "execution_count": 12,
      "outputs": []
    },
    {
      "cell_type": "markdown",
      "source": [
        "### 4. Fit CNN"
      ],
      "metadata": {
        "id": "g52ju-6YCwRc"
      }
    },
    {
      "cell_type": "code",
      "source": [
        "cnn.fit(x = training_set, validation_data = test_set, epochs = 25)"
      ],
      "metadata": {
        "colab": {
          "base_uri": "https://localhost:8080/"
        },
        "id": "cOVczigTCuKT",
        "outputId": "6a49f9a9-3e78-48da-b84b-c42a462cefc4"
      },
      "execution_count": 13,
      "outputs": [
        {
          "output_type": "stream",
          "name": "stdout",
          "text": [
            "Epoch 1/25\n",
            "250/250 [==============================] - 2934s 12s/step - loss: 0.6586 - accuracy: 0.5946 - val_loss: 0.5926 - val_accuracy: 0.6900\n",
            "Epoch 2/25\n",
            "250/250 [==============================] - 39s 156ms/step - loss: 0.5878 - accuracy: 0.6894 - val_loss: 0.5969 - val_accuracy: 0.6885\n",
            "Epoch 3/25\n",
            "250/250 [==============================] - 43s 174ms/step - loss: 0.5510 - accuracy: 0.7184 - val_loss: 0.5162 - val_accuracy: 0.7490\n",
            "Epoch 4/25\n",
            "250/250 [==============================] - 44s 175ms/step - loss: 0.5217 - accuracy: 0.7400 - val_loss: 0.5612 - val_accuracy: 0.7230\n",
            "Epoch 5/25\n",
            "250/250 [==============================] - 39s 154ms/step - loss: 0.5103 - accuracy: 0.7526 - val_loss: 0.4976 - val_accuracy: 0.7665\n",
            "Epoch 6/25\n",
            "250/250 [==============================] - 38s 151ms/step - loss: 0.4881 - accuracy: 0.7600 - val_loss: 0.4870 - val_accuracy: 0.7765\n",
            "Epoch 7/25\n",
            "250/250 [==============================] - 38s 153ms/step - loss: 0.4731 - accuracy: 0.7736 - val_loss: 0.4743 - val_accuracy: 0.7745\n",
            "Epoch 8/25\n",
            "250/250 [==============================] - 38s 151ms/step - loss: 0.4559 - accuracy: 0.7793 - val_loss: 0.5085 - val_accuracy: 0.7540\n",
            "Epoch 9/25\n",
            "250/250 [==============================] - 39s 155ms/step - loss: 0.4529 - accuracy: 0.7834 - val_loss: 0.4603 - val_accuracy: 0.7810\n",
            "Epoch 10/25\n",
            "250/250 [==============================] - 38s 154ms/step - loss: 0.4308 - accuracy: 0.8014 - val_loss: 0.4701 - val_accuracy: 0.7810\n",
            "Epoch 11/25\n",
            "250/250 [==============================] - 43s 171ms/step - loss: 0.4256 - accuracy: 0.7990 - val_loss: 0.4703 - val_accuracy: 0.7860\n",
            "Epoch 12/25\n",
            "250/250 [==============================] - 44s 175ms/step - loss: 0.4102 - accuracy: 0.8084 - val_loss: 0.4555 - val_accuracy: 0.7885\n",
            "Epoch 13/25\n",
            "250/250 [==============================] - 38s 153ms/step - loss: 0.4054 - accuracy: 0.8100 - val_loss: 0.4307 - val_accuracy: 0.8090\n",
            "Epoch 14/25\n",
            "250/250 [==============================] - 38s 153ms/step - loss: 0.3859 - accuracy: 0.8231 - val_loss: 0.4645 - val_accuracy: 0.7965\n",
            "Epoch 15/25\n",
            "250/250 [==============================] - 39s 157ms/step - loss: 0.3741 - accuracy: 0.8328 - val_loss: 0.4588 - val_accuracy: 0.8080\n",
            "Epoch 16/25\n",
            "250/250 [==============================] - 39s 154ms/step - loss: 0.3715 - accuracy: 0.8325 - val_loss: 0.4353 - val_accuracy: 0.8100\n",
            "Epoch 17/25\n",
            "250/250 [==============================] - 39s 154ms/step - loss: 0.3531 - accuracy: 0.8407 - val_loss: 0.4428 - val_accuracy: 0.8145\n",
            "Epoch 18/25\n",
            "250/250 [==============================] - 38s 153ms/step - loss: 0.3481 - accuracy: 0.8430 - val_loss: 0.5721 - val_accuracy: 0.7530\n",
            "Epoch 19/25\n",
            "250/250 [==============================] - 38s 152ms/step - loss: 0.3278 - accuracy: 0.8543 - val_loss: 0.4525 - val_accuracy: 0.8110\n",
            "Epoch 20/25\n",
            "250/250 [==============================] - 39s 156ms/step - loss: 0.3223 - accuracy: 0.8614 - val_loss: 0.5203 - val_accuracy: 0.7895\n",
            "Epoch 21/25\n",
            "250/250 [==============================] - 43s 173ms/step - loss: 0.3090 - accuracy: 0.8656 - val_loss: 0.5114 - val_accuracy: 0.7890\n",
            "Epoch 22/25\n",
            "250/250 [==============================] - 39s 157ms/step - loss: 0.2991 - accuracy: 0.8671 - val_loss: 0.4782 - val_accuracy: 0.8110\n",
            "Epoch 23/25\n",
            "250/250 [==============================] - 38s 151ms/step - loss: 0.2952 - accuracy: 0.8666 - val_loss: 0.4511 - val_accuracy: 0.8160\n",
            "Epoch 24/25\n",
            "250/250 [==============================] - 39s 156ms/step - loss: 0.2823 - accuracy: 0.8779 - val_loss: 0.4611 - val_accuracy: 0.8120\n",
            "Epoch 25/25\n",
            "250/250 [==============================] - 43s 173ms/step - loss: 0.2769 - accuracy: 0.8815 - val_loss: 0.4704 - val_accuracy: 0.8130\n"
          ]
        },
        {
          "output_type": "execute_result",
          "data": {
            "text/plain": [
              "<keras.src.callbacks.History at 0x7e9e30d89960>"
            ]
          },
          "metadata": {},
          "execution_count": 13
        }
      ]
    },
    {
      "cell_type": "markdown",
      "source": [
        "### 5. Prediksi dengan 1 Citra"
      ],
      "metadata": {
        "id": "wKyIOw66C0UM"
      }
    },
    {
      "cell_type": "code",
      "source": [
        "import numpy as np\n",
        "from keras.preprocessing import image\n",
        "test_image = image.load_img('/content/drive/MyDrive/Colab Notebooks/dataset/dataset/single_prediction/cat_or_dog_1.jpg', target_size = (64, 64))\n",
        "test_image = image.img_to_array(test_image)\n",
        "test_image = np.expand_dims(test_image, axis = 0)\n",
        "result = cnn.predict(test_image)\n",
        "training_set.class_indices\n",
        "if result[0][0] == 1:\n",
        "  prediction = 'dog'\n",
        "else:\n",
        "  prediction = 'cat'\n",
        "print(prediction)"
      ],
      "metadata": {
        "colab": {
          "base_uri": "https://localhost:8080/"
        },
        "id": "p_4YayqYC37h",
        "outputId": "a6e04659-665f-4da3-ba19-d9b641ea100a"
      },
      "execution_count": 15,
      "outputs": [
        {
          "output_type": "stream",
          "name": "stdout",
          "text": [
            "1/1 [==============================] - 0s 17ms/step\n",
            "dog\n"
          ]
        }
      ]
    }
  ]
}